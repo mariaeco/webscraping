{
  "cells": [
    {
      "cell_type": "code",
      "execution_count": null,
      "metadata": {
        "colab": {
          "base_uri": "https://localhost:8080/"
        },
        "id": "k5BmPuxDYcGt",
        "outputId": "419dd522-ee81-46ac-c240-f5b14f7681a1"
      },
      "outputs": [
        {
          "name": "stdout",
          "output_type": "stream",
          "text": [
            "Mounted at /content/drive\n"
          ]
        }
      ],
      "source": [
        "from google.colab import drive\n",
        "drive.mount('/content/drive')"
      ]
    },
    {
      "cell_type": "code",
      "execution_count": null,
      "metadata": {},
      "outputs": [],
      "source": [
        "import pandas as pd\n",
        "import openai\n",
        "import os"
      ]
    },
    {
      "cell_type": "code",
      "execution_count": null,
      "metadata": {
        "id": "EzKxGdn7YgUe"
      },
      "outputs": [],
      "source": [
        "\n",
        "\n",
        "def load_data():\n",
        "    file_path = \"/content/drive/MyDrive/Colab Notebooks/DATA_VISUALIZATION/dislit_final.csv\"\n",
        "    df = pd.read_csv(file_path, header=0, sep=',')\n",
        "    df[\"DataCriacao1\"] = pd.to_datetime(df[\"DataCriacao1\"], format=\"%d/%m/%Y\")\n",
        "    df['month'] =df[\"DataCriacao1\"].dt.strftime('%b')\n",
        "    df['year'] = df[\"DataCriacao1\"].dt.year.astype(str)\n",
        "    df['year_month'] = df[\"DataCriacao1\"].dt.to_period(\"M\").astype(str)\n",
        "    df = df.drop(columns=['DataCriacao1'])\n",
        "    return df\n",
        "\n",
        "df = load_data()"
      ]
    },
    {
      "cell_type": "code",
      "execution_count": 5,
      "metadata": {
        "colab": {
          "base_uri": "https://localhost:8080/"
        },
        "id": "JKQJYeS4YjFO",
        "outputId": "911347e6-b786-4b0b-f34a-ab3bd3a4796d"
      },
      "outputs": [
        {
          "name": "stdout",
          "output_type": "stream",
          "text": [
            "Index(['Textbox2', 'NumPregão2', 'NumParticipantes', 'Orgao2', 'SIGLA',\n",
            "       'Modalidade2', 'Data de Abertura', 'Objeto', 'ClassObjeto',\n",
            "       'Razão Social', 'Total Adjudicado', 'Valor', 'month', 'year',\n",
            "       'year_month'],\n",
            "      dtype='object')\n"
          ]
        }
      ],
      "source": [
        "print(df.columns)"
      ]
    },
    {
      "cell_type": "markdown",
      "metadata": {
        "id": "xCx-Hegixvlo"
      },
      "source": [
        "## DICIONARIO PARA PADRONIZAÇÃO DOS ÓRGAOS PELAS SIGLAS"
      ]
    },
    {
      "cell_type": "code",
      "execution_count": 10,
      "metadata": {
        "id": "hXjNhKDlZDV4"
      },
      "outputs": [],
      "source": [
        "#DICIONARIO PARA PADRONIZAÇÃO DOS ÓRGAOS PELAS SIGLAS\n",
        "siglas = {'SEDH':[\n",
        " 'SEDH/FUND. DESENV. CRIANÇA E ADOLESC\"ALICE DE ALMEIDA\"',\n",
        " 'SEDH/LOTERIA DO ESTADO DA PARAÍBA' 'CCG/PARAÍBA PREVIDÊNCIA',\n",
        " 'SEDH/FUNDO ESTADUAL DE ASSISTÊNCIA SOCIAL',\n",
        " 'SEDH/FUNDAÇÃO DE DESENVOLVIMENTO DA CRIANÇA E DO ADOLESCENTE \"ALICE DE ALMEIDA\"',\n",
        " 'SEDH/COMPANHIA ESTADUAL DE HABITAÇÃO POPULAR',  'SECRETARIA DE ESTADO DE DESENVOLVIMENTO HUMANO'],\n",
        " 'SES':[\n",
        " 'SES/COMPLEXO DE SAÚDE ARLINDA MARQUES' ,\n",
        " 'SES/AGÊNCIA ESTADUAL DE VIGILÂNCIA SANITÁRIA',\n",
        " 'SES/COMPLEXO DE SAÚDE CLEMENTINO FRAGA',\n",
        " 'SES/HOSPITAL DE TRAUMAS DE JOÃO PESSOA',\n",
        " 'SES/COMPLEXO DE SAÚDE DE CAJAZEIRAS',\n",
        " 'SECRETARIA DE ESTADO DA SAÚDE',\n",
        " 'SES/HOSPITAL REGIONAL DE PATOS',\n",
        " 'SES/HOSPITAL GERAL DE MAMANGUAPE',\n",
        " 'SES/HOSPITAL METROPOLITANO DOM JOSE MARIA PIRES - SANTA RITA',\n",
        " 'SES/UNIDADE DE PRONTO ATENDIMENTO CAJAZEIRAS - UPA',\n",
        " 'SES/HOSPITAL DISTRITAL DE POMBAL',\n",
        " 'SES/COMPLEXO DE SAÚDE JULIANO MOREIRA',\n",
        " 'SES/COMPLEXO DE SAÚDE DE GUARABIRA',\n",
        " 'SES/COMPLEXO DE SAÚDE DE CRUZ DAS ARMAS',\n",
        " 'SES/MATERNIDADE DR. PEREGRINO FILHO (PATOS)',\n",
        " 'SES/CENTRO ESPECIALIZADO EM REABILITACAO - CER IV',\n",
        " 'SES/HOSPITAL DISTRITAL DE SOLÂNEA - SOLANEA',\n",
        " 'SES/FUNDACAO PARAIBANA DE GESTAO EM SAUDE -PB SAUDE',\n",
        " 'SES/UNIDADE DE PRONTO ATENDIMENTO UPA 24 HORAS DO MUNICÍPIO DE PRINCESA ISABEL',\n",
        " 'SES/HOSPITAL GERAL DE COREMAS',\n",
        " 'SES/HOSPITAL DR AMERICO MAIS VASCONCELOS - CATOLE DO ROCHA',\n",
        " 'SES/CONSELHO ESTADUAL DE SAUDE',\n",
        " 'SES/COMPLEXO DE SAÚDE DE PICUÍ',\n",
        " 'SES/HOSPITAL REGIONAL WENCESLAU LOPES - PIANCO',\n",
        " 'SES/HOSPITAL DE TRAUMAS DE CAMPINA GRANDE',\n",
        " 'SES/HOSPITAL GERAL DE QUEIMADAS - QUEIMADAS',\n",
        " 'SES/UNIDADE DE PRONTO ATENDIMENTO GUARABIRA - UPA',\n",
        " 'SES/UNIDADE DE PRONTO ATENDIMENTO SANTA RITA - UPA',\n",
        " 'SES/HOSPITAL DE CLINICAS DE CAMPINA GRANDE',\n",
        " 'INSTITUTO HOSPITALAR GENERAL EDSON RAMALHO',\n",
        " 'LACEN - LABORATORIO CENTRAL DE SAÚDE PÚBLICA',\n",
        " 'CENTRO ESPECIALIZADO DIAGNÓSTICO DO CÂNCER'\n",
        "],\n",
        "'SEAFDS': ['SEAFDS'],\n",
        "'PMPB': ['POLÍCIA MILITAR DO ESTADO DA PARAÍBA'],\n",
        "'BMPB': ['CORPO DE BOMBEIROS MILITAR DA PARAÍBA'],\n",
        "'SEE':['SECRETARIA DE ESTADO DA EDUCAÇÃO E DA CIÊNCIA E TECNOLOGIA',\n",
        " 'SECRETARIA DE ESTADO DA EDUCAÇÃO','SEE', 'SEE/FUNDAÇÃO CENTRO INTEGRADO DE APOIO AO PORTADOR DE DEFICIÊNCIA'],\n",
        "'SECTMA': ['SECTMA/FUNDAÇÃO DE APOIO À PESQUISA DO ESTADO DA PARAÍBA',\n",
        " 'SECTMA/SUPERINTENDÊNCIA DE ADMINISTRAÇÃO DO MEIO AMBIENTE',\n",
        " 'SECTMA',\n",
        " 'SECTMA/FUNDO ESTADUAL DE RECURSOS HÍDRICOS',\n",
        " 'SECTMA/AGÊNCIA EXECUTIVA DE GESTÃO DAS ÁGUAS DO ESTADO DA PARAÍBA'\n",
        "],\n",
        "'SEFAZ': ['SEFAZ','SEFAZ/LOTERIA DO ESTADO DA PARAÍBA'],\n",
        "'SECOM': ['SECOM/EMPRESA PARAIBANA DE COMUNICAÇÃO S/A', 'SECOM/A UNIÃO SUPERINTENDÊNCIA DE IMPRENSA E EDITORA', 'SECRETARIA DE ESTADO DA COMUNICAÇÃO INSTITUCIONAL'],\n",
        "'PGE':['PROCURADORIA GERAL DO ESTADO'],\n",
        "'SER':['SECRETARIA DE ESTADO DA RECEITA'],\n",
        "'EGE': ['ENCARGOS GERAIS DO ESTADO'],\n",
        "'SEIE':['SEIE/COMPANHIA DOCAS DA PARAÍBA'],\n",
        "'SEAD':['SECRETARIA DE ESTADO DA ADMINISTRAÇÃO', 'SEAD/FUNDO ESPECIAL DE DESENVOLVIMENTO DE RECURSOS HUMANOS'],\n",
        "'SEC': ['SEC','SECRETARIA DE ESTADO DA CULTURA','SEC/INSTITUTO DO PATRIMÔNIO HISTÓRICO E ARTÍSTICO DO ESTADO DA PARAÍBA'],\n",
        "'CCG': ['CCG/AGÊNCIA DE REGULAÇÃO DO ESTADO DA PARAÍBA','CONTROLADORIA GERAL DO ESTADO'],\n",
        "'SEPLAN':['SECRETARIA DE ESTADO DE PLANEJAMENTO', 'SECRETARIA DE ESTADO DO PLANEJAMENTO'],\n",
        "'SEDAP':['SECRETARIA DE ESTADO DO DESENVOLVIMENTO DA AGROPECUÁRIA E DA PESCA', 'SEDAP/FUNDO DE DESENVOLVIMENTO AGROPECUÁRIO DO ESTADO DA PARAÍBA'],\n",
        "'DETRAN':['SEDS/DEPARTAMENTO ESTADUAL DE TRÂNSITO DO ESTADO DA PARAÍBA'],\n",
        "'POLICIA CIVIL': ['POLICIA CIVIL DO ESTADO DA PARAIBA'],\n",
        "'CASA MILITAR':['CASA MILITAR'],\n",
        " 'SETDE':['SETDE', 'SECRETARIA DE ESTADO DO TURISMO E DO DESENVOLVIMENTO ECONÔMICO',\n",
        " 'SETDE/INSTITUTO DE METROLOGIA E QUALIDADE INDUSTRIAL DA PARAÍBA',\n",
        " 'SETDE/JUNTA COMERCIAL DO ESTADO DA PARAIBA'],\n",
        "'SEINFRA': ['SECRETARIA DE ESTADO DA INFRAESTRUTURA'],\n",
        "'SEIE': ['SEIE/SUPERINTENDÊNCIA DE OBRAS DO PLANO DE DESENVOLVIMENTO DO ESTADO',\n",
        "'SEIE/DEPARTAMENTO DE ESTRADAS DE RODAGEM'],\n",
        "'SESDS':[ 'SECRETARIA DE ESTADO DA SEGURANÇA E DA DEFESA SOCIAL'],\n",
        "'SEAP':['SECRETARIA DE ESTADO DA ADMINISTRAÇÃO PENITENCIÁRIA'],\n",
        " 'PROJETO COOPERAR': ['PROJETO COOPERAR'] ,\n",
        " 'PROJETO CARIRI':['PROJETO DE DESENVOLVIMENTO SUSTENTÁVEL DO CARIRI'],\n",
        "'IPEP':['INSTITUTO DE ASSISTÊNCIA À SAÚDE DO SERVIDOR'],\n",
        "'SEJEL':['SECRETARIA DE ESTADO DA JUVENTUDE','FUNDO DE APOIO AO ESPORTE E LAZER DO ESTADO DA PARAÍBA'],\n",
        " 'FEPDC':['FUNDO ESTADUAL DE DEFESA DOS DIREITOS DO CONSUMIDOR'],\n",
        " 'SEMDH':['SECRETARIA DE ESTADO DA MULHER E DA DIVERSIDADE HUMANA'],\n",
        " 'SEG':['SECRETARIA DE ESTADO DO GOVERNO'],\n",
        " 'SEDAM':['SECRETARIA DE ESTADO DO DESENVOLVIMENTO E DA ARTICULAÇÃO MUNICIPAL']\n",
        "}"
      ]
    },
    {
      "cell_type": "code",
      "execution_count": 12,
      "metadata": {
        "colab": {
          "base_uri": "https://localhost:8080/"
        },
        "id": "IcapaTCEx2XG",
        "outputId": "fd377db2-89ee-4c20-d5ee-7dcf91755f03"
      },
      "outputs": [
        {
          "name": "stdout",
          "output_type": "stream",
          "text": [
            "                                                 Orgao2 Siglas\n",
            "0     SEDH/FUND. DESENV. CRIANÇA E ADOLESC\"ALICE DE ...   SEDH\n",
            "1     SEDH/FUND. DESENV. CRIANÇA E ADOLESC\"ALICE DE ...   SEDH\n",
            "2                       SECRETARIA DE ESTADO DA RECEITA    SER\n",
            "3                             ENCARGOS GERAIS DO ESTADO    EGE\n",
            "4                 SES/COMPLEXO DE SAÚDE ARLINDA MARQUES    SES\n",
            "...                                                 ...    ...\n",
            "5613              SES/COMPLEXO DE SAÚDE ARLINDA MARQUES    SES\n",
            "5614                      SECRETARIA DE ESTADO DA SAÚDE    SES\n",
            "5615              SES/COMPLEXO DE SAÚDE ARLINDA MARQUES    SES\n",
            "5616              SES/COMPLEXO DE SAÚDE ARLINDA MARQUES    SES\n",
            "5617              SES/COMPLEXO DE SAÚDE ARLINDA MARQUES    SES\n",
            "\n",
            "[5618 rows x 2 columns]\n"
          ]
        }
      ],
      "source": [
        "# Criar um mapeamento inverso (valores para chaves)\n",
        "mapeamento = {orgao: sigla for sigla, orgaos in siglas.items() for orgao in orgaos}\n",
        "\n",
        "# Aplicar ao DataFrame\n",
        "df['Siglas'] = df['Orgao2'].map(mapeamento)\n",
        "\n",
        "# Exibir resultado\n",
        "print(df[['Orgao2', 'Siglas']])"
      ]
    },
    {
      "cell_type": "markdown",
      "metadata": {
        "id": "Np89N63hyXJV"
      },
      "source": [
        "#PADRONIZAÇÃO DOS OBJETOS ATRAVÉS DO AGENTE DE IA"
      ]
    },
    {
      "cell_type": "code",
      "execution_count": null,
      "metadata": {
        "id": "6xdM9a_cyjxr"
      },
      "outputs": [],
      "source": [
        "os.environ[\"OPENAI_API_KEY\"] =  \"\"\n",
        "\n",
        "# Usar a variável de ambiente\n",
        "openai.api_key = os.getenv(\"OPENAI_API_KEY\")\n",
        "\n",
        "\n",
        "def classificar_frase(frase):\n",
        "    prompt = f\"\"\"\n",
        "    Classifique a seguinte frase em uma das categorias:  Obras e serviços de engenharia,     Materiais de Expediente,     Compra de Medicamentos,\n",
        "    Material e Equipamentos Hospitalares,     Exame Hospitalar,     Alimentação Hospitalar,  Suplementos e Leito Fórmula  Serviços de telefonia e internet,\n",
        "    Serviços de TI,     Contratação de serviços em geral,     Alimentação para Eventos,     Alimentação para Animais,    Alimentação para quentinhas e outros,\n",
        "    Serviços Gráficos e de Impressão,    Locação de Imóvel,    Conserto e Manutenção de equipamentos,    Compra de material permanente\n",
        "\n",
        "\n",
        "\n",
        "    Frase: \"{frase}\"\n",
        "\n",
        "    Retorne apenas o nome da categoria.\n",
        "    \"\"\"\n",
        "\n",
        "    resposta = openai.ChatCompletion.create(\n",
        "        model=\"gpt-4o-mini\",  # Ou outro modelo\n",
        "        messages=[{\"role\": \"user\", \"content\": prompt}]\n",
        "    )\n",
        "\n",
        "    return resposta[\"choices\"][0][\"message\"][\"content\"].strip()\n",
        "\n"
      ]
    },
    {
      "cell_type": "code",
      "execution_count": null,
      "metadata": {
        "id": "rkWmnmYYy1cE"
      },
      "outputs": [],
      "source": [
        "for i in range(len(df)):\n",
        "  objeto = df.loc[i, 'Modalidade2']\n",
        "  classe = classificar_frase(objeto)\n",
        "  df.loc[i, 'ClasseObj'] = classe"
      ]
    },
    {
      "cell_type": "code",
      "execution_count": null,
      "metadata": {
        "id": "HUNzVJCTymxk"
      },
      "outputs": [],
      "source": [
        "save_file = '/content/drive/MyDrive/Colab Notebooks/DATA_VISUALIZATION/df_padronizado.csv'\n",
        "df.to_csv(save_file, encoding=\"latin1\")"
      ]
    }
  ],
  "metadata": {
    "colab": {
      "provenance": []
    },
    "kernelspec": {
      "display_name": "Python 3",
      "name": "python3"
    },
    "language_info": {
      "name": "python"
    }
  },
  "nbformat": 4,
  "nbformat_minor": 0
}
